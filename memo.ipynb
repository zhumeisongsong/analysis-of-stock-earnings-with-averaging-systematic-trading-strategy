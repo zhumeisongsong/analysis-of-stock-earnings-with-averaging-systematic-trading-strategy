{
 "cells": [
  {
   "cell_type": "code",
   "execution_count": 68,
   "metadata": {},
   "outputs": [],
   "source": [
    "# # Model: Logistic regression analysis\n",
    "\n",
    "# def set_pre_stock_data(stock_data, days_ago, end_date):\n",
    "#   length = len(stock_data)\n",
    "#   df = pro.trade_cal(exchange='', start_date='20020830', end_date='20220830')\n",
    "\n",
    "#   stock_data[\"pre_open\"] = pre_stock_data[\"open\"]\n",
    "#   stock_data[\"pre_high\"] = pre_stock_data[\"high\"]\n",
    "#   stock_data[\"pre_low\"] = pre_stock_data[\"low\"]\n",
    "#   stock_data[\"pre_vol\"] = pre_stock_data[\"vol\"]\n",
    "#   stock_data[\"pre_amount\"] = pre_stock_data[\"amount\"]\n",
    "\n",
    "\n",
    "# pre_stock_data = pro.daily(\n",
    "#     ts_code='600000.SH', start_date=start_date, end_date=end_date)\n",
    "# print(pre_stock_data.head())\n",
    "\n",
    "# # 予測変数:is_up\n",
    "# stock_data.groupby(\"change\").size()\n",
    "# stock_data[\"is_up\"] = stock_data[\"change\"].map(lambda x: 1 if x > 0 else 0)\n",
    "# stock_data.groupby(\"is_up\").size()\n",
    "\n",
    "\n",
    "# from sklearn.linear_model import LogisticRegression\n",
    "# from sklearn.model_selection import train_test_split\n",
    "\n",
    "# # 説明変数\n",
    "# X = stock_data[[\"pre_open\", \"pre_high\", \"pre_low\", \"pre_close\", \"pre_vol\", \"pre_amount\"]]\n",
    "\n",
    "# Y = stock_data[\"is_up\"]\n",
    "# X_train, X_test, y_train, y_test = train_test_split(X, Y, random_state=0)\n",
    "\n",
    "# # TODO:random forest / SVM\n",
    "# model = LogisticRegression()\n",
    "# clf = model.fit(X_train, y_train)\n",
    "\n",
    "# print(\"train result:\", clf.score(X_train, y_train))\n",
    "# print(\"test result:\", clf.score(X_test, y_test))\n",
    "\n",
    "# from sklearn.preprocessing import StandardScaler\n",
    "\n",
    "# sc = StandardScaler()\n",
    "# sc.fit(X_train)\n",
    "# X_train_std = sc.transform(X_train)\n",
    "# X_test_std = sc.transform(X_test)\n",
    "\n",
    "# clf = model.fit(X_train_std, y_train)\n",
    "# print(\"train:\", clf.score(X_train_std, y_train))\n",
    "# print(\"test:\", clf.score(X_test_std, y_test))\n",
    "\n",
    "# # 偏回帰係数\n",
    "# print(clf.coef_)\n",
    "# # 0.5303701 is pre_high\n",
    "\n",
    "# # Calculate the exponential of all elements in the input array.\n",
    "# print(np.exp(clf.coef_))\n"
   ]
  }
 ],
 "metadata": {
  "kernelspec": {
   "display_name": "Python 3.9.9 64-bit",
   "language": "python",
   "name": "python3"
  },
  "language_info": {
   "codemirror_mode": {
    "name": "ipython",
    "version": 3
   },
   "file_extension": ".py",
   "mimetype": "text/x-python",
   "name": "python",
   "nbconvert_exporter": "python",
   "pygments_lexer": "ipython3",
   "version": "3.9.9"
  },
  "orig_nbformat": 4,
  "vscode": {
   "interpreter": {
    "hash": "aee8b7b246df8f9039afb4144a1f6fd8d2ca17a180786b69acc140d282b71a49"
   }
  }
 },
 "nbformat": 4,
 "nbformat_minor": 2
}
