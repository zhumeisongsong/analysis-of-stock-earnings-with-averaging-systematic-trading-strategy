{
 "cells": [
  {
   "cell_type": "code",
   "execution_count": 2,
   "metadata": {},
   "outputs": [],
   "source": [
    "import tushare as ts\n",
    "import numpy as np\n",
    "import pandas as pd\n",
    "import matplotlib.pyplot as plt\n"
   ]
  },
  {
   "cell_type": "code",
   "execution_count": 3,
   "metadata": {},
   "outputs": [],
   "source": [
    "pro = ts.pro_api()\n"
   ]
  },
  {
   "cell_type": "code",
   "execution_count": 4,
   "metadata": {},
   "outputs": [
    {
     "name": "stdout",
     "output_type": "stream",
     "text": [
      "     ts_code trade_date  open  high   low  close  pre_close  change  pct_chg  \\\n",
      "0  600000.SH   20220901  7.23  7.29  7.20   7.23       7.27   -0.04  -0.5502   \n",
      "1  600000.SH   20220831  7.17  7.28  7.15   7.27       7.19    0.08   1.1127   \n",
      "2  600000.SH   20220830  7.14  7.20  7.13   7.19       7.15    0.04   0.5594   \n",
      "3  600000.SH   20220829  7.16  7.21  7.12   7.15       7.22   -0.07  -0.9695   \n",
      "4  600000.SH   20220826  7.23  7.26  7.18   7.22       7.20    0.02   0.2778   \n",
      "\n",
      "         vol      amount  \n",
      "0  232983.88  169134.999  \n",
      "1  395661.30  286509.309  \n",
      "2  225419.28  161534.933  \n",
      "3  276003.24  197253.687  \n",
      "4  175762.35  126876.441  \n",
      "4747\n"
     ]
    }
   ],
   "source": [
    "# https://tushare.pro/document/2?doc_id=25\n",
    "# get Constituents of SSE\n",
    "data = pro.stock_basic(exchange='SSE', list_status='L',\n",
    "                       fields='ts_code,symbol,name,area,industry,list_date')\n",
    "# print(data.head())\n",
    "# print(len(data))\n",
    "\n",
    "# https://tushare.pro/document/2?doc_id=27\n",
    "# the histories data of a stock\n",
    "stock_data = pro.daily(ts_code='600000.SH',\n",
    "                       start_date='20020901', end_date='20220901')\n",
    "print(stock_data.head())\n",
    "print(len(stock_data))\n"
   ]
  },
  {
   "cell_type": "code",
   "execution_count": 16,
   "metadata": {},
   "outputs": [
    {
     "name": "stdout",
     "output_type": "stream",
     "text": [
      "     ts_code trade_date  open  high   low  close  pre_close  change  pct_chg  \\\n",
      "0  600000.SH   20220831  7.17  7.28  7.15   7.27       7.19    0.08   1.1127   \n",
      "1  600000.SH   20220830  7.14  7.20  7.13   7.19       7.15    0.04   0.5594   \n",
      "2  600000.SH   20220829  7.16  7.21  7.12   7.15       7.22   -0.07  -0.9695   \n",
      "3  600000.SH   20220826  7.23  7.26  7.18   7.22       7.20    0.02   0.2778   \n",
      "4  600000.SH   20220825  7.16  7.22  7.15   7.20       7.15    0.05   0.6993   \n",
      "\n",
      "         vol      amount  \n",
      "0  395661.30  286509.309  \n",
      "1  225419.28  161534.933  \n",
      "2  276003.24  197253.687  \n",
      "3  175762.35  126876.441  \n",
      "4  157725.56  113287.117  \n"
     ]
    }
   ],
   "source": [
    "pre_stock_data = pro.daily(\n",
    "    ts_code='600000.SH', start_date='20020830', end_date='20220831')\n",
    "print(pre_stock_data.head())"
   ]
  },
  {
   "cell_type": "code",
   "execution_count": 5,
   "metadata": {},
   "outputs": [
    {
     "data": {
      "text/plain": [
       "is_up\n",
       "0    2449\n",
       "1    2298\n",
       "dtype: int64"
      ]
     },
     "execution_count": 5,
     "metadata": {},
     "output_type": "execute_result"
    }
   ],
   "source": [
    "# 予測変数:is_up\n",
    "stock_data.groupby(\"change\").size()\n",
    "stock_data[\"is_up\"] = stock_data[\"change\"].map(lambda x: 1 if x > 0 else 0)\n",
    "stock_data.groupby(\"is_up\").size()"
   ]
  },
  {
   "cell_type": "code",
   "execution_count": 6,
   "metadata": {},
   "outputs": [],
   "source": [
    "# TODO: end_date 変数\n",
    "# https://note.nkmk.me/python-pandas-datetime-timestamp/\n",
    "pre_stock_data = pro.daily(\n",
    "    ts_code='600000.SH', start_date='20020830', end_date='20220831') \n",
    "\n",
    "stock_data[\"pre_open\"] = pre_stock_data[\"open\"]\n",
    "stock_data[\"pre_high\"] = pre_stock_data[\"high\"]\n",
    "stock_data[\"pre_low\"] = pre_stock_data[\"low\"]\n",
    "stock_data[\"pre_vol\"] = pre_stock_data[\"vol\"]\n",
    "stock_data[\"pre_amount\"] = pre_stock_data[\"amount\"]\n",
    "\n",
    "# stock_data.info()"
   ]
  },
  {
   "cell_type": "code",
   "execution_count": 21,
   "metadata": {},
   "outputs": [
    {
     "name": "stdout",
     "output_type": "stream",
     "text": [
      "train result: 0.5303370786516854\n",
      "test result: 0.4835720303285594\n"
     ]
    }
   ],
   "source": [
    "# Model: Logistic regression analysis\n",
    "from sklearn.linear_model import LogisticRegression\n",
    "from sklearn.model_selection import train_test_split\n",
    "\n",
    "# 説明変数: T-1 (open high low close amount)\n",
    "# TODO: T-1 ? T-x\n",
    "# 10 days (https://www.google.com/search?q=python+running+average) SMA\n",
    "X = stock_data[[\"pre_open\", \"pre_high\", \"pre_low\", \"pre_close\", \"pre_vol\", \"pre_amount\"]]\n",
    "\n",
    "Y = stock_data[\"is_up\"]\n",
    "X_train, X_test, y_train, y_test = train_test_split(X, Y, random_state=0)\n",
    "\n",
    "# TODO:random forest / SVM\n",
    "model = LogisticRegression()\n",
    "clf = model.fit(X_train, y_train)\n",
    "\n",
    "print(\"train result:\", clf.score(X_train, y_train))\n",
    "print(\"test result:\", clf.score(X_test, y_test))\n"
   ]
  },
  {
   "cell_type": "code",
   "execution_count": 22,
   "metadata": {},
   "outputs": [
    {
     "name": "stdout",
     "output_type": "stream",
     "text": [
      "train: 0.5297752808988764\n",
      "test: 0.4877843302443134\n"
     ]
    }
   ],
   "source": [
    "from sklearn.preprocessing import StandardScaler\n",
    "\n",
    "sc = StandardScaler()\n",
    "sc.fit(X_train)\n",
    "X_train_std = sc.transform(X_train)\n",
    "X_test_std = sc.transform(X_test)\n",
    "\n",
    "clf = model.fit(X_train_std, y_train)\n",
    "print(\"train:\", clf.score(X_train_std, y_train))\n",
    "print(\"test:\", clf.score(X_test_std, y_test))\n"
   ]
  },
  {
   "cell_type": "code",
   "execution_count": 9,
   "metadata": {},
   "outputs": [
    {
     "data": {
      "text/plain": [
       "array([[-0.10859816,  0.74862693,  0.04998734, -0.63189191,  0.01721982,\n",
       "        -0.0013053 ]])"
      ]
     },
     "execution_count": 9,
     "metadata": {},
     "output_type": "execute_result"
    }
   ],
   "source": [
    "# 偏回帰係数\n",
    "clf.coef_\n",
    "# 0.5303701 is pre_high"
   ]
  },
  {
   "cell_type": "code",
   "execution_count": 10,
   "metadata": {},
   "outputs": [
    {
     "data": {
      "text/plain": [
       "array([[0.89709083, 2.11409521, 1.05125779, 0.53158514, 1.01736894,\n",
       "        0.99869555]])"
      ]
     },
     "execution_count": 10,
     "metadata": {},
     "output_type": "execute_result"
    }
   ],
   "source": [
    "# Calculate the exponential of all elements in the input array.\n",
    "np.exp(clf.coef_)\n"
   ]
  },
  {
   "cell_type": "code",
   "execution_count": null,
   "metadata": {},
   "outputs": [],
   "source": []
  },
  {
   "cell_type": "markdown",
   "metadata": {},
   "source": []
  },
  {
   "cell_type": "code",
   "execution_count": 11,
   "metadata": {},
   "outputs": [],
   "source": [
    "# 株価予測の手法を調査して、使えそうなものをまとめる\n",
    "# https://atrae.docbase.io/posts/2563322\n",
    "# https://www.kaggle.com/search?q=stock+forecasting\n"
   ]
  },
  {
   "cell_type": "markdown",
   "metadata": {},
   "source": []
  }
 ],
 "metadata": {
  "kernelspec": {
   "display_name": "Python 3.9.9 64-bit",
   "language": "python",
   "name": "python3"
  },
  "language_info": {
   "codemirror_mode": {
    "name": "ipython",
    "version": 3
   },
   "file_extension": ".py",
   "mimetype": "text/x-python",
   "name": "python",
   "nbconvert_exporter": "python",
   "pygments_lexer": "ipython3",
   "version": "3.9.9"
  },
  "orig_nbformat": 4,
  "vscode": {
   "interpreter": {
    "hash": "aee8b7b246df8f9039afb4144a1f6fd8d2ca17a180786b69acc140d282b71a49"
   }
  }
 },
 "nbformat": 4,
 "nbformat_minor": 2
}
